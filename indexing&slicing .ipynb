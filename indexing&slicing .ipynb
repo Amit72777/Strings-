{
 "cells": [
  {
   "cell_type": "markdown",
   "id": "a47f9a33",
   "metadata": {},
   "source": [
    "# Indexing and slicing array \n"
   ]
  },
  {
   "cell_type": "code",
   "execution_count": 1,
   "id": "08b66137",
   "metadata": {},
   "outputs": [],
   "source": [
    "import numpy as np"
   ]
  },
  {
   "cell_type": "code",
   "execution_count": 24,
   "id": "f2517e6d",
   "metadata": {},
   "outputs": [],
   "source": [
    "arr = np.arange(5,50,5)"
   ]
  },
  {
   "cell_type": "code",
   "execution_count": 25,
   "id": "3b45d602",
   "metadata": {},
   "outputs": [
    {
     "data": {
      "text/plain": [
       "array([ 5, 10, 15, 20, 25, 30, 35, 40, 45])"
      ]
     },
     "execution_count": 25,
     "metadata": {},
     "output_type": "execute_result"
    }
   ],
   "source": [
    "arr"
   ]
  },
  {
   "cell_type": "code",
   "execution_count": 26,
   "id": "009c3753",
   "metadata": {},
   "outputs": [
    {
     "data": {
      "text/plain": [
       "array([ 5, 10, 15])"
      ]
     },
     "execution_count": 26,
     "metadata": {},
     "output_type": "execute_result"
    }
   ],
   "source": [
    "arr[:3]"
   ]
  },
  {
   "cell_type": "code",
   "execution_count": 27,
   "id": "50ce0f63",
   "metadata": {},
   "outputs": [],
   "source": [
    "arr = arr.reshape(3,-1)"
   ]
  },
  {
   "cell_type": "code",
   "execution_count": 29,
   "id": "23a1094a",
   "metadata": {},
   "outputs": [
    {
     "data": {
      "text/plain": [
       "array([[ 5, 10, 15],\n",
       "       [20, 25, 30],\n",
       "       [35, 40, 45]])"
      ]
     },
     "execution_count": 29,
     "metadata": {},
     "output_type": "execute_result"
    }
   ],
   "source": [
    "arr"
   ]
  },
  {
   "cell_type": "markdown",
   "id": "b6f10545",
   "metadata": {},
   "source": [
    "# indexing in 2d array Using double quotation "
   ]
  },
  {
   "cell_type": "code",
   "execution_count": 34,
   "id": "767301ad",
   "metadata": {},
   "outputs": [
    {
     "name": "stdout",
     "output_type": "stream",
     "text": [
      "[[ 5 10 15]\n",
      " [20 25 30]\n",
      " [35 40 45]]\n"
     ]
    }
   ],
   "source": [
    "print(arr)"
   ]
  },
  {
   "cell_type": "code",
   "execution_count": 35,
   "id": "38f9b450",
   "metadata": {},
   "outputs": [
    {
     "data": {
      "text/plain": [
       "30"
      ]
     },
     "execution_count": 35,
     "metadata": {},
     "output_type": "execute_result"
    }
   ],
   "source": [
    "arr[1][2]   "
   ]
  },
  {
   "cell_type": "code",
   "execution_count": 36,
   "id": "907cfb1e",
   "metadata": {},
   "outputs": [
    {
     "data": {
      "text/plain": [
       "15"
      ]
     },
     "execution_count": 36,
     "metadata": {},
     "output_type": "execute_result"
    }
   ],
   "source": [
    "arr[0][2]\n",
    "\n"
   ]
  },
  {
   "cell_type": "markdown",
   "id": "15425fa9",
   "metadata": {},
   "source": [
    "# indexing  & slicing using single quation "
   ]
  },
  {
   "cell_type": "code",
   "execution_count": 38,
   "id": "2b8b48bc",
   "metadata": {},
   "outputs": [
    {
     "name": "stdout",
     "output_type": "stream",
     "text": [
      "[[ 5 10 15]\n",
      " [20 25 30]\n",
      " [35 40 45]]\n"
     ]
    }
   ],
   "source": [
    "print(arr) # print the array"
   ]
  },
  {
   "cell_type": "code",
   "execution_count": 39,
   "id": "744d11e2",
   "metadata": {},
   "outputs": [
    {
     "data": {
      "text/plain": [
       "5"
      ]
     },
     "execution_count": 39,
     "metadata": {},
     "output_type": "execute_result"
    }
   ],
   "source": [
    "arr[0,0] # using single quation find 1st elemet"
   ]
  },
  {
   "cell_type": "code",
   "execution_count": 40,
   "id": "59297d98",
   "metadata": {},
   "outputs": [],
   "source": [
    "# [[5,10] \n",
    "# [20 25]] "
   ]
  },
  {
   "cell_type": "code",
   "execution_count": 42,
   "id": "ebcc9735",
   "metadata": {},
   "outputs": [
    {
     "name": "stdout",
     "output_type": "stream",
     "text": [
      "[[ 5 10]\n",
      " [20 25]]\n"
     ]
    }
   ],
   "source": [
    "print(arr[:2,:2])"
   ]
  },
  {
   "cell_type": "code",
   "execution_count": 43,
   "id": "eb7f239c",
   "metadata": {},
   "outputs": [],
   "source": [
    "# [[25,30]\n",
    "#   [40,45 ]]"
   ]
  },
  {
   "cell_type": "code",
   "execution_count": 44,
   "id": "3be3ac02",
   "metadata": {},
   "outputs": [
    {
     "name": "stdout",
     "output_type": "stream",
     "text": [
      "[[25 30]\n",
      " [40 45]]\n"
     ]
    }
   ],
   "source": [
    "print(arr[1:, 1:])"
   ]
  },
  {
   "cell_type": "code",
   "execution_count": 46,
   "id": "64959ca4",
   "metadata": {},
   "outputs": [
    {
     "data": {
      "text/plain": [
       "array([[67, 93, 99, 18, 84],\n",
       "       [58, 87, 98, 97, 48],\n",
       "       [74, 33, 47, 97, 26],\n",
       "       [84, 79, 37, 97, 81],\n",
       "       [69, 50, 56, 68,  3]])"
      ]
     },
     "execution_count": 46,
     "metadata": {},
     "output_type": "execute_result"
    }
   ],
   "source": [
    "np.random.seed(123)\n",
    "matrix  = np.random.randint(1,101,25).reshape(5,-1)\n",
    "matrix\n"
   ]
  },
  {
   "cell_type": "code",
   "execution_count": null,
   "id": "661ca8af",
   "metadata": {},
   "outputs": [],
   "source": [
    "'''[[97 , 98, 97]\n",
    " [33, 47, 97 ]  # creat krna h aise matrix \n",
    " [79 , 37 , 97]]'''"
   ]
  },
  {
   "cell_type": "code",
   "execution_count": 49,
   "id": "8a9aa2ca",
   "metadata": {},
   "outputs": [
    {
     "data": {
      "text/plain": [
       "array([[87, 98, 97],\n",
       "       [33, 47, 97],\n",
       "       [79, 37, 97]])"
      ]
     },
     "execution_count": 49,
     "metadata": {},
     "output_type": "execute_result"
    }
   ],
   "source": [
    "matrix[1:4,1:-1] # first argument for row and second argument for column "
   ]
  },
  {
   "cell_type": "code",
   "execution_count": null,
   "id": "c0bd6a61",
   "metadata": {},
   "outputs": [],
   "source": []
  }
 ],
 "metadata": {
  "kernelspec": {
   "display_name": "Python 3 (ipykernel)",
   "language": "python",
   "name": "python3"
  },
  "language_info": {
   "codemirror_mode": {
    "name": "ipython",
    "version": 3
   },
   "file_extension": ".py",
   "mimetype": "text/x-python",
   "name": "python",
   "nbconvert_exporter": "python",
   "pygments_lexer": "ipython3",
   "version": "3.11.4"
  }
 },
 "nbformat": 4,
 "nbformat_minor": 5
}
