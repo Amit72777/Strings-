{
 "cells": [
  {
   "cell_type": "markdown",
   "metadata": {},
   "source": [
    "Q: Create a string made of the first , middle and last character   Or  \n",
    " write a programm to create a new string made of an input string's first,middle,and last character \n",
    "  "
   ]
  },
  {
   "cell_type": "code",
   "execution_count": 2,
   "metadata": {},
   "outputs": [
    {
     "name": "stdout",
     "output_type": "stream",
     "text": [
      "Jms\n"
     ]
    }
   ],
   "source": [
    "str= input(\"Enter the number \")\n",
    "a = str[0] + str[len(str)//2] + str[-1]\n",
    "print(a)"
   ]
  },
  {
   "cell_type": "markdown",
   "metadata": {},
   "source": [
    "Q write a programm to create a new string made of the middle threee characters of an input string "
   ]
  },
  {
   "cell_type": "code",
   "execution_count": 11,
   "metadata": {},
   "outputs": [
    {
     "name": "stdout",
     "output_type": "stream",
     "text": [
      " old string is  =  \"JaSonpy\" \n",
      "  new string = \"Son \" \n"
     ]
    }
   ],
   "source": [
    "str = input(\"Enter the string \") # input string \n",
    "if len(str)<3 :\n",
    "    print(\"this string is not valid\")\n",
    "else :\n",
    "    a = str.index(str[len(str)//2])  # find the middle index \n",
    "    b = str[a-1] + str [a] + str[a+1]# Calcular str \n",
    "    print(f\" old string is  =  \\\"{str}\\\" \\n  new string = \\\"{b} \\\" \")"
   ]
  }
 ],
 "metadata": {
  "kernelspec": {
   "display_name": "Python 3",
   "language": "python",
   "name": "python3"
  },
  "language_info": {
   "codemirror_mode": {
    "name": "ipython",
    "version": 3
   },
   "file_extension": ".py",
   "mimetype": "text/x-python",
   "name": "python",
   "nbconvert_exporter": "python",
   "pygments_lexer": "ipython3",
   "version": "3.11.6"
  }
 },
 "nbformat": 4,
 "nbformat_minor": 2
}
